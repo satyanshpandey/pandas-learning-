{
 "cells": [
  {
   "cell_type": "code",
   "execution_count": 1,
   "id": "13dba291",
   "metadata": {},
   "outputs": [],
   "source": [
    "import pandas as pd\n"
   ]
  },
  {
   "cell_type": "code",
   "execution_count": 4,
   "id": "a4f9f53a",
   "metadata": {},
   "outputs": [
    {
     "name": "stdout",
     "output_type": "stream",
     "text": [
      "SeriesBySatya:\n",
      " 1      1\n",
      "2      2\n",
      "3      3\n",
      "4      4\n",
      "5      5\n",
      "6      6\n",
      "7      7\n",
      "8      8\n",
      "9      9\n",
      "11    11\n",
      "dtype: int64\n"
     ]
    }
   ],
   "source": [
    "data = [1,2,3,4,5,6,7,8,9,11]\n",
    "index = [1,2,3,4,5,6,7,8,9,11]\n",
    "series = pd.Series(data , index=index)\n",
    "print(\"SeriesBySatya:\\n\",series)"
   ]
  },
  {
   "cell_type": "code",
   "execution_count": 8,
   "id": "085d5c03",
   "metadata": {},
   "outputs": [
    {
     "name": "stdout",
     "output_type": "stream",
     "text": [
      "    A  B  C\n",
      "I1  1  2  3\n",
      "I2  4  5  6\n",
      "I3  7  8  9\n"
     ]
    }
   ],
   "source": [
    "df = pd.DataFrame([[1,2,3] , [4,5,6] , [7,8,9]] , columns=['A','B','C'] , index=['I1','I2','I3'])\n",
    "\n",
    "print(df,)\n"
   ]
  },
  {
   "cell_type": "code",
   "execution_count": 10,
   "id": "20222e13",
   "metadata": {},
   "outputs": [],
   "source": [
    "# EXPORTING DATA INTO MULTIPLE FILE FORMAT \n",
    "data = {\n",
    "    \"Gender\": [\"Female\", \"Female\", \"Male\", \"Male\"],\n",
    "    \"Age\": [21, 21, 23, 27],\n",
    "    \"Height\": [1.62, 1.52, 1.80, 1.80],\n",
    "    \"Weight\": [64, 56, 77, 87],\n",
    "    \"Obesity\": [\"Normal_Weight\", \"Normal_Weight\", \"Normal_Weight\", \"Overweight_Level_I\"]\n",
    "}"
   ]
  },
  {
   "cell_type": "code",
   "execution_count": 12,
   "id": "12f30e76",
   "metadata": {},
   "outputs": [
    {
     "name": "stdout",
     "output_type": "stream",
     "text": [
      "Printing original dataframe:     Gender  Age  Height  Weight             Obesity\n",
      "0  Female   21    1.62      64       Normal_Weight\n",
      "1  Female   21    1.52      56       Normal_Weight\n",
      "2    Male   23    1.80      77       Normal_Weight\n",
      "3    Male   27    1.80      87  Overweight_Level_I\n"
     ]
    }
   ],
   "source": [
    "df = pd.DataFrame(data)\n",
    "print(\"Printing original dataframe: \", df)\n",
    "\n"
   ]
  },
  {
   "cell_type": "code",
   "execution_count": 13,
   "id": "1ea539cb",
   "metadata": {},
   "outputs": [
    {
     "name": "stdout",
     "output_type": "stream",
     "text": [
      "\n",
      "✅ Data saved as file.csv\n"
     ]
    }
   ],
   "source": [
    "# ---------------------------\n",
    "# Export into Multiple Formats\n",
    "# ---------------------------\n",
    "\n",
    "# 1. CSV\n",
    "df.to_csv(\"file.csv\", index=False)\n",
    "print(\"\\n✅ Data saved as file.csv\")"
   ]
  },
  {
   "cell_type": "code",
   "execution_count": 19,
   "id": "3898f37a",
   "metadata": {},
   "outputs": [
    {
     "name": "stdout",
     "output_type": "stream",
     "text": [
      "✅ Data saved as file.parquet\n"
     ]
    }
   ],
   "source": [
    "# pip install pyarrow \n",
    "# 2. Parquet (requires pyarrow or fastparquet installed)\n",
    "# df.to_parquet(\"file.parquet\", engine=\"pyarrow\")\n",
    "df.to_parquet(\"file.parquet\", engine=\"fastparquet\", index=False)\n",
    "\n",
    "print(\"✅ Data saved as file.parquet\")\n",
    "\n",
    "\n"
   ]
  },
  {
   "cell_type": "code",
   "execution_count": 20,
   "id": "a138d6b8",
   "metadata": {},
   "outputs": [
    {
     "name": "stdout",
     "output_type": "stream",
     "text": [
      "✅ Data saved as file.feather\n"
     ]
    }
   ],
   "source": [
    "\n",
    "# 3. Feather (requires pyarrow installed)\n",
    "df.to_feather(\"file.feather\")\n",
    "print(\"✅ Data saved as file.feather\")"
   ]
  },
  {
   "cell_type": "code",
   "execution_count": 23,
   "id": "922e79ce",
   "metadata": {},
   "outputs": [
    {
     "name": "stdout",
     "output_type": "stream",
     "text": [
      "\n",
      "Reading back the files:\n",
      "\n",
      "CSV:\n",
      "    Gender  Age  Height  Weight             Obesity\n",
      "0  Female   21    1.62      64       Normal_Weight\n",
      "1  Female   21    1.52      56       Normal_Weight\n",
      "2    Male   23    1.80      77       Normal_Weight\n",
      "3    Male   27    1.80      87  Overweight_Level_I \n",
      "\n"
     ]
    }
   ],
   "source": [
    "# ---------------------------\n",
    "# Reading Back the Files\n",
    "# ---------------------------\n",
    "print(\"\\nReading back the files:\\n\")\n",
    "\n",
    "# Read CSV\n",
    "csv_df = pd.read_csv(\"file.csv\")\n",
    "print(\"CSV:\\n\", csv_df, \"\\n\")\n",
    "\n",
    "# Read Parquet\n",
    "# parquet_df = pd.read_parquet(\"file.parquet\")\n",
    "# print(\"Parquet:\\n\", parquet_df, \"\\n\")\n",
    "\n",
    "# Read Feather\n",
    "# feather_df = pd.read_feather(\"file.feather\")\n",
    "# print(\"Feather:\\n\", feather_df, \"\\n\")"
   ]
  },
  {
   "cell_type": "code",
   "execution_count": null,
   "id": "efb459d7",
   "metadata": {},
   "outputs": [],
   "source": []
  }
 ],
 "metadata": {
  "kernelspec": {
   "display_name": "New_folder-ah9wcB13",
   "language": "python",
   "name": "python3"
  },
  "language_info": {
   "codemirror_mode": {
    "name": "ipython",
    "version": 3
   },
   "file_extension": ".py",
   "mimetype": "text/x-python",
   "name": "python",
   "nbconvert_exporter": "python",
   "pygments_lexer": "ipython3",
   "version": "3.12.1"
  }
 },
 "nbformat": 4,
 "nbformat_minor": 5
}
