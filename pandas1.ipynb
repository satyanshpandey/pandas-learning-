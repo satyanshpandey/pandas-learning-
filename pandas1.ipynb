{
 "cells": [
  {
   "cell_type": "code",
   "execution_count": 4,
   "id": "13dba291",
   "metadata": {},
   "outputs": [],
   "source": [
    "import pandas as pd\n"
   ]
  },
  {
   "cell_type": "code",
   "execution_count": 5,
   "id": "a4f9f53a",
   "metadata": {},
   "outputs": [
    {
     "name": "stdout",
     "output_type": "stream",
     "text": [
      "SeriesBySatya:\n",
      " 1      1\n",
      "2      2\n",
      "3      3\n",
      "4      4\n",
      "5      5\n",
      "6      6\n",
      "7      7\n",
      "8      8\n",
      "9      9\n",
      "11    11\n",
      "dtype: int64\n"
     ]
    }
   ],
   "source": [
    "data = [1,2,3,4,5,6,7,8,9,11]\n",
    "index = [1,2,3,4,5,6,7,8,9,11]\n",
    "series = pd.Series(data , index=index)\n",
    "print(\"SeriesBySatya:\\n\",series)"
   ]
  },
  {
   "cell_type": "code",
   "execution_count": 6,
   "id": "085d5c03",
   "metadata": {},
   "outputs": [
    {
     "name": "stdout",
     "output_type": "stream",
     "text": [
      "    A  B  C\n",
      "I1  1  2  3\n",
      "I2  4  5  6\n",
      "I3  7  8  9\n"
     ]
    }
   ],
   "source": [
    "df = pd.DataFrame([[1,2,3] , [4,5,6] , [7,8,9]] , columns=['A','B','C'] , index=['I1','I2','I3'])\n",
    "\n",
    "print(df,)\n"
   ]
  },
  {
   "cell_type": "code",
   "execution_count": 7,
   "id": "20222e13",
   "metadata": {},
   "outputs": [],
   "source": [
    "# EXPORTING DATA INTO MULTIPLE FILE FORMAT \n",
    "data = {\n",
    "    \"Gender\": [\"Female\", \"Female\", \"Male\", \"Male\"],\n",
    "    \"Age\": [21, 21, 23, 27],\n",
    "    \"Height\": [1.62, 1.52, 1.80, 1.80],\n",
    "    \"Weight\": [64, 56, 77, 87],\n",
    "    \"Obesity\": [\"Normal_Weight\", \"Normal_Weight\", \"Normal_Weight\", \"Overweight_Level_I\"]\n",
    "}"
   ]
  },
  {
   "cell_type": "code",
   "execution_count": 8,
   "id": "12f30e76",
   "metadata": {},
   "outputs": [
    {
     "name": "stdout",
     "output_type": "stream",
     "text": [
      "Printing original dataframe:     Gender  Age  Height  Weight             Obesity\n",
      "0  Female   21    1.62      64       Normal_Weight\n",
      "1  Female   21    1.52      56       Normal_Weight\n",
      "2    Male   23    1.80      77       Normal_Weight\n",
      "3    Male   27    1.80      87  Overweight_Level_I\n"
     ]
    }
   ],
   "source": [
    "df = pd.DataFrame(data)\n",
    "print(\"Printing original dataframe: \", df)\n",
    "\n"
   ]
  },
  {
   "cell_type": "code",
   "execution_count": 9,
   "id": "1ea539cb",
   "metadata": {},
   "outputs": [
    {
     "name": "stdout",
     "output_type": "stream",
     "text": [
      "\n",
      "✅ Data saved as file.csv\n"
     ]
    }
   ],
   "source": [
    "# ---------------------------\n",
    "# Export into Multiple Formats\n",
    "# ---------------------------\n",
    "\n",
    "# 1. CSV\n",
    "df.to_csv(\"file.csv\", index=False)\n",
    "print(\"\\n✅ Data saved as file.csv\")"
   ]
  },
  {
   "cell_type": "code",
   "execution_count": 10,
   "id": "3898f37a",
   "metadata": {},
   "outputs": [
    {
     "name": "stdout",
     "output_type": "stream",
     "text": [
      "✅ Data saved as file.parquet\n"
     ]
    }
   ],
   "source": [
    "# pip install pyarrow \n",
    "# 2. Parquet (requires pyarrow or fastparquet installed)\n",
    "# df.to_parquet(\"file.parquet\", engine=\"pyarrow\")\n",
    "df.to_parquet(\"file.parquet\", engine=\"fastparquet\", index=False)\n",
    "\n",
    "print(\"✅ Data saved as file.parquet\")\n",
    "\n",
    "\n"
   ]
  },
  {
   "cell_type": "code",
   "execution_count": 11,
   "id": "a138d6b8",
   "metadata": {},
   "outputs": [
    {
     "name": "stdout",
     "output_type": "stream",
     "text": [
      "✅ Data saved as file.feather\n"
     ]
    }
   ],
   "source": [
    "\n",
    "# 3. Feather (requires pyarrow installed)\n",
    "df.to_feather(\"file.feather\")\n",
    "print(\"✅ Data saved as file.feather\")"
   ]
  },
  {
   "cell_type": "code",
   "execution_count": 12,
   "id": "922e79ce",
   "metadata": {},
   "outputs": [
    {
     "name": "stdout",
     "output_type": "stream",
     "text": [
      "\n",
      "Reading back the files:\n",
      "\n",
      "CSV:\n",
      "    Gender  Age  Height  Weight             Obesity\n",
      "0  Female   21    1.62      64       Normal_Weight\n",
      "1  Female   21    1.52      56       Normal_Weight\n",
      "2    Male   23    1.80      77       Normal_Weight\n",
      "3    Male   27    1.80      87  Overweight_Level_I \n",
      "\n"
     ]
    }
   ],
   "source": [
    "# ---------------------------\n",
    "# Reading Back the Files\n",
    "# ---------------------------\n",
    "print(\"\\nReading back the files:\\n\")\n",
    "\n",
    "# Read CSV\n",
    "csv_df = pd.read_csv(\"file.csv\")\n",
    "print(\"CSV:\\n\", csv_df, \"\\n\")\n",
    "\n",
    "# Read Parquet\n",
    "# parquet_df = pd.read_parquet(\"file.parquet\")\n",
    "# print(\"Parquet:\\n\", parquet_df, \"\\n\")\n",
    "\n",
    "# Read Feather\n",
    "# feather_df = pd.read_feather(\"file.feather\")\n",
    "# print(\"Feather:\\n\", feather_df, \"\\n\")"
   ]
  },
  {
   "cell_type": "code",
   "execution_count": 13,
   "id": "efb459d7",
   "metadata": {},
   "outputs": [
    {
     "name": "stdout",
     "output_type": "stream",
     "text": [
      "<class 'pandas.core.frame.DataFrame'>\n",
      "RangeIndex: 4 entries, 0 to 3\n",
      "Data columns (total 5 columns):\n",
      " #   Column   Non-Null Count  Dtype  \n",
      "---  ------   --------------  -----  \n",
      " 0   Gender   4 non-null      object \n",
      " 1   Age      4 non-null      int64  \n",
      " 2   Height   4 non-null      float64\n",
      " 3   Weight   4 non-null      int64  \n",
      " 4   Obesity  4 non-null      object \n",
      "dtypes: float64(1), int64(2), object(2)\n",
      "memory usage: 292.0+ bytes\n"
     ]
    }
   ],
   "source": [
    "df.info()"
   ]
  },
  {
   "cell_type": "code",
   "execution_count": 14,
   "id": "17b079b3",
   "metadata": {},
   "outputs": [
    {
     "data": {
      "text/html": [
       "<div>\n",
       "<style scoped>\n",
       "    .dataframe tbody tr th:only-of-type {\n",
       "        vertical-align: middle;\n",
       "    }\n",
       "\n",
       "    .dataframe tbody tr th {\n",
       "        vertical-align: top;\n",
       "    }\n",
       "\n",
       "    .dataframe thead th {\n",
       "        text-align: right;\n",
       "    }\n",
       "</style>\n",
       "<table border=\"1\" class=\"dataframe\">\n",
       "  <thead>\n",
       "    <tr style=\"text-align: right;\">\n",
       "      <th></th>\n",
       "      <th>Age</th>\n",
       "      <th>Height</th>\n",
       "      <th>Weight</th>\n",
       "    </tr>\n",
       "  </thead>\n",
       "  <tbody>\n",
       "    <tr>\n",
       "      <th>count</th>\n",
       "      <td>4.000000</td>\n",
       "      <td>4.000000</td>\n",
       "      <td>4.000000</td>\n",
       "    </tr>\n",
       "    <tr>\n",
       "      <th>mean</th>\n",
       "      <td>23.000000</td>\n",
       "      <td>1.685000</td>\n",
       "      <td>71.000000</td>\n",
       "    </tr>\n",
       "    <tr>\n",
       "      <th>std</th>\n",
       "      <td>2.828427</td>\n",
       "      <td>0.138924</td>\n",
       "      <td>13.735599</td>\n",
       "    </tr>\n",
       "    <tr>\n",
       "      <th>min</th>\n",
       "      <td>21.000000</td>\n",
       "      <td>1.520000</td>\n",
       "      <td>56.000000</td>\n",
       "    </tr>\n",
       "    <tr>\n",
       "      <th>25%</th>\n",
       "      <td>21.000000</td>\n",
       "      <td>1.595000</td>\n",
       "      <td>62.000000</td>\n",
       "    </tr>\n",
       "    <tr>\n",
       "      <th>50%</th>\n",
       "      <td>22.000000</td>\n",
       "      <td>1.710000</td>\n",
       "      <td>70.500000</td>\n",
       "    </tr>\n",
       "    <tr>\n",
       "      <th>75%</th>\n",
       "      <td>24.000000</td>\n",
       "      <td>1.800000</td>\n",
       "      <td>79.500000</td>\n",
       "    </tr>\n",
       "    <tr>\n",
       "      <th>max</th>\n",
       "      <td>27.000000</td>\n",
       "      <td>1.800000</td>\n",
       "      <td>87.000000</td>\n",
       "    </tr>\n",
       "  </tbody>\n",
       "</table>\n",
       "</div>"
      ],
      "text/plain": [
       "             Age    Height     Weight\n",
       "count   4.000000  4.000000   4.000000\n",
       "mean   23.000000  1.685000  71.000000\n",
       "std     2.828427  0.138924  13.735599\n",
       "min    21.000000  1.520000  56.000000\n",
       "25%    21.000000  1.595000  62.000000\n",
       "50%    22.000000  1.710000  70.500000\n",
       "75%    24.000000  1.800000  79.500000\n",
       "max    27.000000  1.800000  87.000000"
      ]
     },
     "execution_count": 14,
     "metadata": {},
     "output_type": "execute_result"
    }
   ],
   "source": [
    "df.describe()"
   ]
  },
  {
   "cell_type": "code",
   "execution_count": 15,
   "id": "e2a900a3",
   "metadata": {},
   "outputs": [
    {
     "data": {
      "text/plain": [
       "0    21\n",
       "1    21\n",
       "2    23\n",
       "3    27\n",
       "Name: Age, dtype: int64"
      ]
     },
     "execution_count": 15,
     "metadata": {},
     "output_type": "execute_result"
    }
   ],
   "source": [
    "df.Age"
   ]
  },
  {
   "cell_type": "code",
   "execution_count": 16,
   "id": "a7ae1830",
   "metadata": {},
   "outputs": [
    {
     "name": "stdout",
     "output_type": "stream",
     "text": [
      "   Gender  Age  Height  Weight             Obesity\n",
      "0  Female   21    1.62      64       Normal_Weight\n",
      "1  Female   21    1.52      56       Normal_Weight\n",
      "2    Male   23    1.80      77       Normal_Weight\n",
      "3    Male   27    1.80      87  Overweight_Level_I\n"
     ]
    }
   ],
   "source": [
    "print(df)"
   ]
  },
  {
   "cell_type": "code",
   "execution_count": null,
   "id": "bfdf7a50",
   "metadata": {},
   "outputs": [],
   "source": []
  }
 ],
 "metadata": {
  "kernelspec": {
   "display_name": "New_folder-ah9wcB13",
   "language": "python",
   "name": "python3"
  },
  "language_info": {
   "codemirror_mode": {
    "name": "ipython",
    "version": 3
   },
   "file_extension": ".py",
   "mimetype": "text/x-python",
   "name": "python",
   "nbconvert_exporter": "python",
   "pygments_lexer": "ipython3",
   "version": "3.12.1"
  }
 },
 "nbformat": 4,
 "nbformat_minor": 5
}
